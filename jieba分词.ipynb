{
 "cells": [
  {
   "cell_type": "code",
   "execution_count": 1,
   "id": "66e59824",
   "metadata": {},
   "outputs": [
    {
     "name": "stderr",
     "output_type": "stream",
     "text": [
      "Building prefix dict from the default dictionary ...\n",
      "Loading model from cache C:\\Users\\wangj\\AppData\\Local\\Temp\\jieba.cache\n",
      "Loading model cost 0.436 seconds.\n",
      "Prefix dict has been built successfully.\n"
     ]
    },
    {
     "name": "stdout",
     "output_type": "stream",
     "text": [
      "                                                   0\n",
      "0                  本周 都 在 调整 下个 周能 不能 摸摸 高 啊 ？ ？ ？ ？\n",
      "1           高位 站岗 ， 52.01 的 本 [ 哭 ] [ 哭 ] 何时 来波 8 连板\n",
      "2  从 15 分钟 k 线 ， 解读 ， 筹码 清洗 稳定 ， 调整 即将 结束 ， 周五 46...\n",
      "3               最后 几天 监控 ， 大家 坚持 几天 ， 监控 一 过 直接 起飞 ！\n",
      "4                           主力 高位 发套 中 ， 下方 三个 缺口 必补\n"
     ]
    }
   ],
   "source": [
    "import jieba\n",
    "import pandas as pd\n",
    "\n",
    "# data 为刚刚爬取的评论数据（guba.ipynb 中没有保存到 excel，需要手动添加保存代码）\n",
    "comment_data = pd.read_excel('data.xlsx')\n",
    "\n",
    "# df 为空 excel，用于存放后面的分词数据\n",
    "df = pd.read_excel('stock_comments_seg.xlsx')\n",
    "\n",
    "def seg(commentdf):\n",
    "    comment_list = []\n",
    "    for i in range(len(commentdf)):\n",
    "        comment_list.append(jieba.lcut(commentdf['title'][i]))\n",
    "\n",
    "    for j in range(len(comment_list)):\n",
    "        comment_list[j] = ' '.join(comment_list[j])\n",
    "\n",
    "    comment_list = pd.DataFrame(comment_list)\n",
    "    \n",
    "    return comment_list\n",
    "\n",
    "print(seg(comment_data).head())\n",
    "\n",
    "final = seg(comment_data)\n",
    "final.to_excel('stock_comments_seg.xlsx')"
   ]
  },
  {
   "cell_type": "code",
   "execution_count": null,
   "id": "4ff04959",
   "metadata": {},
   "outputs": [],
   "source": []
  }
 ],
 "metadata": {
  "kernelspec": {
   "display_name": "Python 3 (ipykernel)",
   "language": "python",
   "name": "python3"
  },
  "language_info": {
   "codemirror_mode": {
    "name": "ipython",
    "version": 3
   },
   "file_extension": ".py",
   "mimetype": "text/x-python",
   "name": "python",
   "nbconvert_exporter": "python",
   "pygments_lexer": "ipython3",
   "version": "3.11.5"
  }
 },
 "nbformat": 4,
 "nbformat_minor": 5
}
